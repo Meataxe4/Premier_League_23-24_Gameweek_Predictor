{
 "cells": [
  {
   "cell_type": "code",
   "execution_count": null,
   "id": "893d8ad0",
   "metadata": {},
   "outputs": [],
   "source": [
    "#NEW KERNEL"
   ]
  },
  {
   "cell_type": "code",
   "execution_count": null,
   "id": "3e60d869",
   "metadata": {},
   "outputs": [],
   "source": [
    "# importing the tools required for the Poisson regression model\n",
    "import statsmodels.api as sm\n",
    "import statsmodels.formula.api as smf\n",
    "import pandas as pd\n",
    "import matplotlib.pyplot as plt\n",
    "import numpy as np\n",
    "import seaborn\n",
    "from scipy.stats import poisson,skellam"
   ]
  },
  {
   "cell_type": "code",
   "execution_count": null,
   "id": "4864f544",
   "metadata": {},
   "outputs": [],
   "source": [
    "# Set teams here\n",
    "home_team='Arsenal'\n",
    "away_team='Fulham'"
   ]
  },
  {
   "cell_type": "code",
   "execution_count": null,
   "id": "42b5a135",
   "metadata": {},
   "outputs": [],
   "source": [
    "epl = pd.read_csv(r\"C:\\Users\\blake\\OneDrive\\Documents\\Pl_2223 xG.csv\",encoding='latin1')\n",
    "ep = epl[['Home','Away','xGh','xGa']]\n",
    "epl = epl.rename(columns={'xGh': 'HomeGoals', 'xGa': 'AwayGoals'})\n",
    "epl.head()"
   ]
  },
  {
   "cell_type": "code",
   "execution_count": null,
   "id": "80fb1a4b",
   "metadata": {},
   "outputs": [],
   "source": [
    "print(epl)"
   ]
  },
  {
   "cell_type": "code",
   "execution_count": null,
   "id": "2a8a36e2",
   "metadata": {},
   "outputs": [],
   "source": [
    "goal_model_data = pd.concat([epl[['Home','Away','HomeGoals']].assign(home=1).rename(\n",
    "            columns={'Home':'team', 'Away':'opponent','HomeGoals':'goals'}),\n",
    "           epl[['Away','Home','AwayGoals']].assign(home=0).rename(\n",
    "            columns={'Away':'team', 'Home':'opponent','AwayGoals':'goals'})])\n",
    "\n",
    "poisson_model = smf.glm(formula=\"goals ~ home + team + opponent\", data=goal_model_data,\n",
    "                        family=sm.families.Poisson()).fit()\n",
    "poisson_model.summary()"
   ]
  },
  {
   "cell_type": "code",
   "execution_count": null,
   "id": "c0413d78",
   "metadata": {},
   "outputs": [],
   "source": [
    "#Predict for Home Team vs. Away Team\n",
    "home_score_rate=poisson_model.predict(pd.DataFrame(data={'team': home_team, 'opponent': away_team,\n",
    "                                       'home':1},index=[1]))\n",
    "away_score_rate=poisson_model.predict(pd.DataFrame(data={'team': away_team, 'opponent': home_team,\n",
    "                                       'home':0},index=[1]))\n",
    "print(home_team + ' against ' + away_team + ' xG: ' + str(home_score_rate))\n",
    "print(away_team + ' against ' + home_team + ' xG: ' + str(away_score_rate))\n",
    "\n",
    "#Lets just get a result\n",
    "home_goals=np.random.poisson(home_score_rate)\n",
    "away_goals=np.random.poisson(away_score_rate)\n",
    "print(home_team + ': ' + str(home_goals[0]))\n",
    "print(away_team + ': '  + str(away_goals[0]))"
   ]
  },
  {
   "cell_type": "code",
   "execution_count": null,
   "id": "ef661b86",
   "metadata": {
    "scrolled": true
   },
   "outputs": [],
   "source": [
    "# Code to caluclate the goals for the match.\n",
    "def simulate_match(foot_model, homeTeam, awayTeam, max_goals=10):\n",
    "    home_goals_avg = foot_model.predict(pd.DataFrame(data={'team': homeTeam,\n",
    "                                                           'opponent': awayTeam, 'home': 1},\n",
    "                                                     index=[1])).values[0]\n",
    "    away_goals_avg = foot_model.predict(pd.DataFrame(data={'team': awayTeam,\n",
    "                                                           'opponent': homeTeam, 'home': 0},\n",
    "                                                     index=[1])).values[0]\n",
    "    team_pred = [[poisson.pmf(i, team_avg) for i in range(0, max_goals + 1)] for team_avg in\n",
    "                 [home_goals_avg, away_goals_avg]]\n",
    "    return (np.outer(np.array(team_pred[0]), np.array(team_pred[1])))\n",
    "\n",
    "#Fill in the matrix\n",
    "max_goals=5\n",
    "score_matrix=simulate_match(poisson_model, home_team, away_team,max_goals)\n",
    "\n",
    "fig=plt.figure()\n",
    "ax=fig.add_subplot(1,1,1)\n",
    "pos=ax.imshow(score_matrix, extent=[-0.5,max_goals+0.5,-0.5,max_goals+0.5], aspect='auto',cmap=plt.cm.Reds)\n",
    "fig.colorbar(pos, ax=ax)\n",
    "ax.set_title('Probability of outcome')\n",
    "plt.xlim((-0.5,5.5))\n",
    "plt.ylim((-0.5,5.5))\n",
    "plt.tight_layout()\n",
    "ax.set_xlabel('Goals scored by ' + home_team)\n",
    "ax.set_ylabel('Goals scored by ' + away_team)\n",
    "plt.show()\n",
    "\n",
    "#Home, draw, away probabilities\n",
    "homewin=np.sum(np.tril(score_matrix, -1))\n",
    "draw=np.sum(np.diag(score_matrix))\n",
    "awaywin=np.sum(np.triu(score_matrix, 1))"
   ]
  },
  {
   "cell_type": "code",
   "execution_count": null,
   "id": "dabf1f96",
   "metadata": {},
   "outputs": [],
   "source": [
    "print(home_team,\"Win percentage = \", round(homewin*100, 2),\"%\")\n",
    "\n",
    "print(\"Draw percentage = \",round(draw*100,2), \"%\")\n",
    "\n",
    "\n",
    "print(away_team, \"Win percentage = \", round(awaywin*100, 2),\"%\")"
   ]
  },
  {
   "cell_type": "code",
   "execution_count": null,
   "id": "f0b18abd",
   "metadata": {},
   "outputs": [],
   "source": []
  },
  {
   "cell_type": "code",
   "execution_count": null,
   "id": "2d2bfc2d",
   "metadata": {},
   "outputs": [],
   "source": []
  }
 ],
 "metadata": {
  "kernelspec": {
   "display_name": "Python 3 (ipykernel)",
   "language": "python",
   "name": "python3"
  },
  "language_info": {
   "codemirror_mode": {
    "name": "ipython",
    "version": 3
   },
   "file_extension": ".py",
   "mimetype": "text/x-python",
   "name": "python",
   "nbconvert_exporter": "python",
   "pygments_lexer": "ipython3",
   "version": "3.11.4"
  }
 },
 "nbformat": 4,
 "nbformat_minor": 5
}
