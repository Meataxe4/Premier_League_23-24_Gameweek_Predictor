{
 "cells": [
  {
   "cell_type": "code",
   "execution_count": 73,
   "id": "58d8e399",
   "metadata": {},
   "outputs": [],
   "source": [
    "import statsmodels.api as sm\n",
    "import statsmodels.formula.api as smf\n",
    "import pandas as pd\n",
    "import matplotlib.pyplot as plt\n",
    "import numpy as np\n",
    "import seaborn\n",
    "from scipy.stats import poisson,skellam\n",
    "import openpyxl\n",
    "import prettytable as pt"
   ]
  },
  {
   "cell_type": "code",
   "execution_count": 74,
   "id": "b2300784",
   "metadata": {},
   "outputs": [],
   "source": [
    "#ENTER DESIRED GAMEWEEK FOR PREDICTIONS\n",
    "GW=1"
   ]
  },
  {
   "cell_type": "code",
   "execution_count": 75,
   "id": "fd65e30f",
   "metadata": {},
   "outputs": [],
   "source": [
    "# importing the tools required for the Poisson regression model\n",
    "\n",
    "epl = pd.read_csv(r\"C:\\Users\\blake\\OneDrive\\Documents\\Pl_2223 xG.csv\",encoding='latin1')\n",
    "ep = epl[['Home','Away','xGh','xGa']]\n",
    "epl = epl.rename(columns={'xGh': 'HomeGoals', 'xGa': 'AwayGoals'})"
   ]
  },
  {
   "cell_type": "code",
   "execution_count": 76,
   "id": "99722844",
   "metadata": {},
   "outputs": [],
   "source": [
    "# Replace \"Leicester City\" with \"Burnley\" in the Home variable\n",
    "epl['Home'].replace('Leicester City', 'Burnley', inplace=True)\n",
    "\n",
    "    # Replace \"Leicester City\" with \"Burnley\" in the Away variable\n",
    "epl['Away'].replace('Leicester City', 'Burnley', inplace=True)\n",
    "\n",
    "# Replace \"Leeds United\" with \"Sheffield United\" in the Home variable\n",
    "epl['Home'].replace('Leeds United', 'Sheffield United', inplace=True)\n",
    "\n",
    "    # Replace \"Leeds United\" with \"Burnley\" in the Away variable\n",
    "epl['Away'].replace('Leeds United', 'Sheffield United', inplace=True)\n",
    "\n",
    "# Replace \"Southampton\" with \"Luton Town\" in the Home variable\n",
    "epl['Home'].replace('Southampton', 'Luton Town', inplace=True)\n",
    "\n",
    "    # Replace \"Southampton\" with \"Luton Town\" in the Away variable\n",
    "epl['Away'].replace('Southampton', 'Luton Town', inplace=True)\n"
   ]
  },
  {
   "cell_type": "code",
   "execution_count": 77,
   "id": "7495a4b0",
   "metadata": {},
   "outputs": [],
   "source": [
    "# Create a Poisson regression model\n",
    "home_model = smf.glm(formula=\"HomeGoals ~ + Home + Away\", data=epl, family=sm.families.Poisson()).fit()\n",
    "\n",
    "# Create a Poisson regression model for the away team\n",
    "away_model = smf.glm(formula=\"AwayGoals ~ + Home + Away\", data=epl, family=sm.families.Poisson()).fit()\n"
   ]
  },
  {
   "cell_type": "code",
   "execution_count": 78,
   "id": "79c6ca1b",
   "metadata": {},
   "outputs": [],
   "source": [
    "# Read the raw data into a DataFrame\n",
    "fixtures = pd.read_excel(r\"C:\\Users\\blake\\Premier-League-2023_2024-Schedule 2.xlsx\")"
   ]
  },
  {
   "cell_type": "code",
   "execution_count": 79,
   "id": "51904e7f",
   "metadata": {},
   "outputs": [],
   "source": [
    "\n",
    "fixtures['Home'].replace('Man City', 'Manchester City', inplace=True)\n",
    "fixtures['Away'].replace('Man City', 'Manchester City', inplace=True)\n",
    "\n",
    "fixtures['Home'].replace('Man UTD', 'Manchester Utd', inplace=True)\n",
    "fixtures['Away'].replace('Man UTD', 'Manchester Utd', inplace=True)\n",
    "\n",
    "fixtures['Home'].replace('Newcastle', 'Newcastle Utd', inplace=True)\n",
    "fixtures['Away'].replace('Newcastle', 'Newcastle Utd', inplace=True)\n",
    "\n",
    "fixtures['Home'].replace('Nottingham', \"Nott'ham Forest\", inplace=True)\n",
    "fixtures['Away'].replace('Nottingham', \"Nott'ham Forest\", inplace=True)\n",
    "\n",
    "fixtures['Home'].replace('Luton', \"Luton Town\", inplace=True)\n",
    "fixtures['Away'].replace('Luton', \"Luton Town\", inplace=True)\n",
    "\n",
    "fixtures['Home'].replace('Sheffield UTD', \"Sheffield United\", inplace=True)\n",
    "fixtures['Away'].replace('Sheffield UTD', \"Sheffield United\", inplace=True)"
   ]
  },
  {
   "cell_type": "code",
   "execution_count": 80,
   "id": "1bf7671c",
   "metadata": {},
   "outputs": [],
   "source": [
    "# Select the rows where the Matchday is x\n",
    "df = fixtures.query(\"Matchday == @GW\")"
   ]
  },
  {
   "cell_type": "code",
   "execution_count": 81,
   "id": "4e29091f",
   "metadata": {},
   "outputs": [
    {
     "name": "stdout",
     "output_type": "stream",
     "text": [
      "  Matchday       Date              Home             Away  Result\n",
      "0        1 2023-08-11           Burnley  Manchester City     NaN\n",
      "1        1 2023-08-12           Arsenal  Nott'ham Forest     NaN\n",
      "2        1 2023-08-12  Sheffield United   Crystal Palace     NaN\n",
      "3        1 2023-08-12       Bournemouth         West Ham     NaN\n",
      "4        1 2023-08-12          Brighton       Luton Town     NaN\n",
      "5        1 2023-08-12           Everton           Fulham     NaN\n",
      "6        1 2023-08-12     Newcastle Utd      Aston Villa     NaN\n",
      "7        1 2023-08-13         Brentford        Tottenham     NaN\n",
      "8        1 2023-08-13           Chelsea        Liverpool     NaN\n",
      "9        1 2023-08-14    Manchester Utd           Wolves     NaN\n"
     ]
    }
   ],
   "source": [
    "print(df)"
   ]
  },
  {
   "cell_type": "code",
   "execution_count": 82,
   "id": "0ffbaa51",
   "metadata": {},
   "outputs": [
    {
     "name": "stderr",
     "output_type": "stream",
     "text": [
      "C:\\Users\\blake\\AppData\\Local\\Temp\\ipykernel_44028\\973020967.py:17: SettingWithCopyWarning: \n",
      "A value is trying to be set on a copy of a slice from a DataFrame.\n",
      "Try using .loc[row_indexer,col_indexer] = value instead\n",
      "\n",
      "See the caveats in the documentation: https://pandas.pydata.org/pandas-docs/stable/user_guide/indexing.html#returning-a-view-versus-a-copy\n",
      "  df['home_xG'] = home_pred.round(2)\n",
      "C:\\Users\\blake\\AppData\\Local\\Temp\\ipykernel_44028\\973020967.py:18: SettingWithCopyWarning: \n",
      "A value is trying to be set on a copy of a slice from a DataFrame.\n",
      "Try using .loc[row_indexer,col_indexer] = value instead\n",
      "\n",
      "See the caveats in the documentation: https://pandas.pydata.org/pandas-docs/stable/user_guide/indexing.html#returning-a-view-versus-a-copy\n",
      "  df['away_xG'] = away_pred.round(2)\n"
     ]
    }
   ],
   "source": [
    "import scipy.stats as stats\n",
    "\n",
    "# Predict the score of each game in the DataFrame \n",
    "for index, row in df.iterrows():\n",
    "\n",
    "  # Home team prediction\n",
    "  home_pred = home_model.predict(epl) \n",
    "\n",
    "  # Away team prediction\n",
    "  away_pred = away_model.predict(epl)\n",
    "               \n",
    "  # Save predictions\n",
    "  home_score_rate = home_pred\n",
    "  away_score_rate = away_pred\n",
    "\n",
    "# Add the predictions to the DataFrame\n",
    "df['home_xG'] = home_pred.round(2)\n",
    "df['away_xG'] = away_pred.round(2)\n",
    "\n"
   ]
  },
  {
   "cell_type": "code",
   "execution_count": 83,
   "id": "ca247a8d",
   "metadata": {},
   "outputs": [
    {
     "name": "stderr",
     "output_type": "stream",
     "text": [
      "C:\\Users\\blake\\AppData\\Local\\Temp\\ipykernel_44028\\2088413016.py:2: SettingWithCopyWarning: \n",
      "A value is trying to be set on a copy of a slice from a DataFrame.\n",
      "Try using .loc[row_indexer,col_indexer] = value instead\n",
      "\n",
      "See the caveats in the documentation: https://pandas.pydata.org/pandas-docs/stable/user_guide/indexing.html#returning-a-view-versus-a-copy\n",
      "  df['home_goals'] = [np.random.poisson(home_pred[i]) for i in range(len(df))]\n",
      "C:\\Users\\blake\\AppData\\Local\\Temp\\ipykernel_44028\\2088413016.py:5: SettingWithCopyWarning: \n",
      "A value is trying to be set on a copy of a slice from a DataFrame.\n",
      "Try using .loc[row_indexer,col_indexer] = value instead\n",
      "\n",
      "See the caveats in the documentation: https://pandas.pydata.org/pandas-docs/stable/user_guide/indexing.html#returning-a-view-versus-a-copy\n",
      "  df['away_goals'] = [np.random.poisson(away_pred[i]) for i in range(len(df))]\n"
     ]
    }
   ],
   "source": [
    "# Create a new column called home_score\n",
    "df['home_goals'] = [np.random.poisson(home_pred[i]) for i in range(len(df))]\n",
    "\n",
    "# Create a new column called away_score\n",
    "df['away_goals'] = [np.random.poisson(away_pred[i]) for i in range(len(df))]"
   ]
  },
  {
   "cell_type": "code",
   "execution_count": 84,
   "id": "f4be313a",
   "metadata": {},
   "outputs": [
    {
     "name": "stdout",
     "output_type": "stream",
     "text": [
      "  Matchday              Home  home_goals  away_goals             Away  home_xG  away_xG\n",
      "0        1           Burnley           1           1  Manchester City     0.82     1.46\n",
      "1        1           Arsenal           2           1  Nott'ham Forest     1.35     2.06\n",
      "2        1  Sheffield United           3           1   Crystal Palace     1.68     0.79\n",
      "3        1       Bournemouth           5           0         West Ham     2.52     0.57\n",
      "4        1          Brighton           4           1       Luton Town     1.49     1.13\n",
      "5        1           Everton           0           1           Fulham     1.11     1.28\n",
      "6        1     Newcastle Utd           0           3      Aston Villa     1.20     1.29\n",
      "7        1         Brentford           3           0        Tottenham     1.08     1.39\n",
      "8        1           Chelsea           1           0        Liverpool     1.90     1.40\n",
      "9        1    Manchester Utd           0           1           Wolves     0.95     1.89\n"
     ]
    }
   ],
   "source": [
    "# Create a table of the results\n",
    "table = df[['Matchday', 'Home','home_goals','away_goals', 'Away', 'home_xG', 'away_xG']]\n",
    "print(table.to_string())"
   ]
  },
  {
   "cell_type": "code",
   "execution_count": 85,
   "id": "e578bb32",
   "metadata": {},
   "outputs": [
    {
     "name": "stdout",
     "output_type": "stream",
     "text": [
      "  Matchday       Date              Home             Away  Result  home_xG  \\\n",
      "0        1 2023-08-11           Burnley  Manchester City     NaN     0.82   \n",
      "1        1 2023-08-12           Arsenal  Nott'ham Forest     NaN     1.35   \n",
      "2        1 2023-08-12  Sheffield United   Crystal Palace     NaN     1.68   \n",
      "3        1 2023-08-12       Bournemouth         West Ham     NaN     2.52   \n",
      "4        1 2023-08-12          Brighton       Luton Town     NaN     1.49   \n",
      "5        1 2023-08-12           Everton           Fulham     NaN     1.11   \n",
      "6        1 2023-08-12     Newcastle Utd      Aston Villa     NaN     1.20   \n",
      "7        1 2023-08-13         Brentford        Tottenham     NaN     1.08   \n",
      "8        1 2023-08-13           Chelsea        Liverpool     NaN     1.90   \n",
      "9        1 2023-08-14    Manchester Utd           Wolves     NaN     0.95   \n",
      "\n",
      "   away_xG  home_goals  away_goals  home_win_prob  draw_prob  away_win_prob  \n",
      "0     1.46           1           1          36.13      12.24          51.63  \n",
      "1     2.06           2           1          23.62       6.20          70.18  \n",
      "2     0.79           3           1          14.77       5.30          79.93  \n",
      "3     0.57           5           0           6.82       3.85          89.33  \n",
      "4     1.13           4           1           4.60       1.68          93.71  \n",
      "5     1.28           0           1          32.84      11.68          55.48  \n",
      "6     1.29           0           3          29.99       2.94          67.07  \n",
      "7     1.39           3           0           7.10       1.76          91.14  \n",
      "8     1.40           1           0          28.39       7.01          64.60  \n",
      "9     1.89           0           1          38.86      11.08          50.06  \n"
     ]
    },
    {
     "name": "stderr",
     "output_type": "stream",
     "text": [
      "C:\\Users\\blake\\AppData\\Local\\Temp\\ipykernel_44028\\1161913554.py:13: SettingWithCopyWarning: \n",
      "A value is trying to be set on a copy of a slice from a DataFrame.\n",
      "Try using .loc[row_indexer,col_indexer] = value instead\n",
      "\n",
      "See the caveats in the documentation: https://pandas.pydata.org/pandas-docs/stable/user_guide/indexing.html#returning-a-view-versus-a-copy\n",
      "  df.at[index, 'home_win_prob'] = (home_win_prob*100).round(2)\n",
      "C:\\Users\\blake\\AppData\\Local\\Temp\\ipykernel_44028\\1161913554.py:16: SettingWithCopyWarning: \n",
      "A value is trying to be set on a copy of a slice from a DataFrame.\n",
      "Try using .loc[row_indexer,col_indexer] = value instead\n",
      "\n",
      "See the caveats in the documentation: https://pandas.pydata.org/pandas-docs/stable/user_guide/indexing.html#returning-a-view-versus-a-copy\n",
      "  df.at[index, 'draw_prob'] = (draw_prob*100).round(2)\n",
      "C:\\Users\\blake\\AppData\\Local\\Temp\\ipykernel_44028\\1161913554.py:19: SettingWithCopyWarning: \n",
      "A value is trying to be set on a copy of a slice from a DataFrame.\n",
      "Try using .loc[row_indexer,col_indexer] = value instead\n",
      "\n",
      "See the caveats in the documentation: https://pandas.pydata.org/pandas-docs/stable/user_guide/indexing.html#returning-a-view-versus-a-copy\n",
      "  df.at[index, 'away_win_prob'] = (away_win_prob*100).round(2)\n"
     ]
    }
   ],
   "source": [
    "for index, row in df.iterrows():\n",
    "\n",
    "  # Calculate the probability of a home win\n",
    "  home_win_prob = stats.poisson.pmf(row['home_goals'], home_score_rate[index])\n",
    "\n",
    "  # Calculate the probability of a draw\n",
    "  draw_prob = stats.poisson.pmf(row['home_goals'], home_score_rate[index]) * stats.poisson.pmf(row['away_goals'], away_score_rate[index])\n",
    "\n",
    "  # Calculate the probability of an away win\n",
    "  away_win_prob = 1 - home_win_prob - draw_prob\n",
    "\n",
    "  # Set the value of the cell at index and column 'home_win_prob'\n",
    "  df.at[index, 'home_win_prob'] = (home_win_prob*100).round(2)\n",
    "\n",
    "  # Set the value of the cell at index and column 'draw_prob'\n",
    "  df.at[index, 'draw_prob'] = (draw_prob*100).round(2)\n",
    "\n",
    "  # Set the value of the cell at index and column 'away_win_prob'\n",
    "  df.at[index, 'away_win_prob'] = (away_win_prob*100).round(2)\n",
    "    \n",
    "print(df)"
   ]
  },
  {
   "cell_type": "code",
   "execution_count": 86,
   "id": "57e2f634",
   "metadata": {},
   "outputs": [
    {
     "name": "stdout",
     "output_type": "stream",
     "text": [
      "+----+----+------------------+------------+------------+-----------------+------------+--------+------------+\n",
      "| ID | GW |    Home Team     | Home Goals | Away Goals |    Away Team    | Home Win % | Draw % | Away Win % |\n",
      "+----+----+------------------+------------+------------+-----------------+------------+--------+------------+\n",
      "| 1  | 1  |     Burnley      |     1      |     1      | Manchester City |   36.13    | 12.24  |   51.63    |\n",
      "| 2  | 1  |     Arsenal      |     2      |     1      | Nott'ham Forest |   23.62    |  6.2   |   70.18    |\n",
      "| 3  | 1  | Sheffield United |     3      |     1      |  Crystal Palace |   14.77    |  5.3   |   79.93    |\n",
      "| 4  | 1  |   Bournemouth    |     5      |     0      |     West Ham    |    6.82    |  3.85  |   89.33    |\n",
      "| 5  | 1  |     Brighton     |     4      |     1      |    Luton Town   |    4.6     |  1.68  |   93.71    |\n",
      "| 6  | 1  |     Everton      |     0      |     1      |      Fulham     |   32.84    | 11.68  |   55.48    |\n",
      "| 7  | 1  |  Newcastle Utd   |     0      |     3      |   Aston Villa   |   29.99    |  2.94  |   67.07    |\n",
      "| 8  | 1  |    Brentford     |     3      |     0      |    Tottenham    |    7.1     |  1.76  |   91.14    |\n",
      "| 9  | 1  |     Chelsea      |     1      |     0      |    Liverpool    |   28.39    |  7.01  |    64.6    |\n",
      "| 10 | 1  |  Manchester Utd  |     0      |     1      |      Wolves     |   38.86    | 11.08  |   50.06    |\n",
      "+----+----+------------------+------------+------------+-----------------+------------+--------+------------+\n"
     ]
    }
   ],
   "source": [
    "# Create a PrettyTable object\n",
    "table = pt.PrettyTable()\n",
    "\n",
    "# Add the headers\n",
    "table.field_names = ['ID','GW', 'Home Team', 'Home Goals', 'Away Goals', 'Away Team', 'Home Win %', 'Draw %', 'Away Win %']\n",
    "\n",
    "for i in range(len(df)):\n",
    "    row = [i+1, df['Matchday'].iloc[i], df['Home'].iloc[i], df['home_goals'].iloc[i], df['away_goals'].iloc[i], df['Away'].iloc[i], df['home_win_prob'].iloc[i], df['draw_prob'].iloc[i], df['away_win_prob'].iloc[i]] \n",
    "    \n",
    "    table.add_row(row)\n",
    "\n",
    "# Print the table\n",
    "print(table.get_string())"
   ]
  },
  {
   "cell_type": "code",
   "execution_count": null,
   "id": "ba00a8b0",
   "metadata": {},
   "outputs": [],
   "source": []
  }
 ],
 "metadata": {
  "kernelspec": {
   "display_name": "Python 3 (ipykernel)",
   "language": "python",
   "name": "python3"
  },
  "language_info": {
   "codemirror_mode": {
    "name": "ipython",
    "version": 3
   },
   "file_extension": ".py",
   "mimetype": "text/x-python",
   "name": "python",
   "nbconvert_exporter": "python",
   "pygments_lexer": "ipython3",
   "version": "3.11.4"
  }
 },
 "nbformat": 4,
 "nbformat_minor": 5
}
